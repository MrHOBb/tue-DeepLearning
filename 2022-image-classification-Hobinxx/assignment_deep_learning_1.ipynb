{
  "cells": [
    {
      "cell_type": "markdown",
      "metadata": {
        "id": "J1bPG0nEreqx"
      },
      "source": [
        "### IMPORTANT!!!\n",
        "If you choose to use Google Colab to run this notebook keep in mind that the time you have available to use a GPU in Colab is limited (no exact limit but 6-10 hours in a continuous session might lead to a CPU only restriction). The more you use Colab GPU the more often you will get restricted. Do NOT spend more than 4-5 hours training for this notebook as there are other assignments that you will need GPU for."
      ]
    },
    {
      "cell_type": "markdown",
      "metadata": {
        "id": "MWOl4e0-req2"
      },
      "source": [
        "# Assignment 1: Deep Learning\n",
        "\n",
        "This assignment is divided into two excercises. First, you are asked to create a fully connected neural network for classification. Next, \n",
        "you are asked to create a convolutional neural network. You will then be able to see the gain in performance for yourself.\n",
        "\n",
        "For these assignments you are going to use the [PyTorch](https://pytorch.org/docs/stable/index.html) framework. The dataset that is used throughout the assignment is [CIFAR10](https://pytorch.org/vision/stable/generated/torchvision.datasets.CIFAR10.html). It contains 60 000 images evenly split in 10 classes.\n",
        "There are 50 000 train images and 10 000 test images."
      ]
    },
    {
      "cell_type": "markdown",
      "metadata": {
        "id": "_aF-zn2Mreq3"
      },
      "source": [
        "### Importing necessary libraries"
      ]
    },
    {
      "cell_type": "code",
      "execution_count": 18,
      "metadata": {
        "id": "Jq7a8FKGreq4"
      },
      "outputs": [],
      "source": [
        "import os, sys, random\n",
        "import torch\n",
        "import torch.nn as nn\n",
        "import torch.optim as optim\n",
        "import torch.nn.functional as F\n",
        "from torch.utils.data import DataLoader, Subset, sampler\n",
        "\n",
        "import torchvision.datasets as datasets\n",
        "import torchvision.transforms as T\n",
        "\n",
        "from tqdm import tqdm\n",
        "\n",
        "import numpy as np\n",
        "\n",
        "# Check if notebook is not imported\n",
        "training = __name__ == '__main__'\n",
        "if training:\n",
        "    import pickle\n",
        "    from collections import OrderedDict\n",
        "    import matplotlib.pyplot as plt"
      ]
    },
    {
      "cell_type": "markdown",
      "metadata": {
        "id": "hec99rtfreq5"
      },
      "source": [
        "### Preparation\n",
        "\n",
        "You have the option to use GPU by setting the flag bellow to **True**. If your computer does not have CUDA enabled the notebook will fallback to CPU mode.\n",
        "\n",
        "Use the global variables `dtype` and `device` throughout the assignment.\n",
        "\n",
        "#### Important!!\n",
        "\n",
        "Make sure to run the following blocks sequentially"
      ]
    },
    {
      "cell_type": "code",
      "execution_count": 19,
      "metadata": {
        "colab": {
          "base_uri": "https://localhost:8080/"
        },
        "id": "LZWlmSfHreq6",
        "outputId": "8c0cda50-f38a-4f6a-e809-f164fda493ab"
      },
      "outputs": [
        {
          "output_type": "stream",
          "name": "stdout",
          "text": [
            "Using device:  cuda\n"
          ]
        }
      ],
      "source": [
        "USE_GPU = True\n",
        "\n",
        "dtype = torch.float32\n",
        "\n",
        "if USE_GPU and torch.cuda.is_available():\n",
        "    device = torch.device('cuda')\n",
        "else:\n",
        "    device = torch.device('cpu')\n",
        "    \n",
        "print(\"Using device: \", device)"
      ]
    },
    {
      "cell_type": "code",
      "execution_count": 20,
      "metadata": {
        "id": "_IGnCqknreq8"
      },
      "outputs": [],
      "source": [
        "# defining some helper functions\n",
        "# you do not need to use any of them in your own code\n",
        "# DO NOT MODIFY\n",
        "\n",
        "def set_deterministic():\n",
        "    if torch.cuda.is_available():\n",
        "        torch.backends.cudnn.benchmark = False\n",
        "        torch.backends.cudnn.deterministic = True\n",
        "    torch.use_deterministic_algorithms(True)\n",
        "    \n",
        "\n",
        "def set_all_seeds(seed):\n",
        "    os.environ[\"PL_GLOBAL_SEED\"] = str(seed)\n",
        "    os.environ[\"CUBLAS_WORKSPACE_CONFIG\"] = \":4096:8\"\n",
        "    random.seed(seed)\n",
        "    np.random.seed(seed)\n",
        "    torch.manual_seed(seed)\n",
        "    torch.cuda.manual_seed_all(seed)\n",
        "    \n",
        "    \n",
        "def check_accuracy(model, loader, device, dtype=torch.float32):\n",
        "    \"\"\"A helper function used to calculate loss and accuracy on an entire dataset.\n",
        "        DO NOT MODIFY!\n",
        "\n",
        "        Args:\n",
        "            model: torch model.\n",
        "            loader: torch dataloader.\n",
        "\n",
        "        Returns:\n",
        "            accuracy, loss (List[]): accuracy and loss for the whole dataset.\n",
        "    \"\"\"\n",
        "    total_samples = 0\n",
        "    loss = 0\n",
        "    correct_samples = 0\n",
        "    samples = len(loader.dataset)\n",
        "    model.eval()\n",
        "    with torch.no_grad():\n",
        "        for (x, y) in loader:\n",
        "            x = x.to(device=device, dtype=dtype) \n",
        "            y = y.to(device=device, dtype=dtype)\n",
        "            scores = torch.argmax(model(x), dim=1).to(dtype=dtype)\n",
        "            loss += F.cross_entropy(scores, y).cpu()\n",
        "            correct_samples += (scores == y).sum().item()\n",
        "            total_samples += y.shape[0]\n",
        "            \n",
        "    return np.array([float(correct_samples) / total_samples, loss / samples])\n",
        "\n"
      ]
    },
    {
      "cell_type": "code",
      "execution_count": 21,
      "metadata": {
        "id": "qPdYOyCireq9"
      },
      "outputs": [],
      "source": [
        "# Set some global variables and configure environment\n",
        "RANDOM_SEED = 420\n",
        "BATCH_SIZE = 250  # Set the batch size you want to use\n",
        "TRAIN_VAL_SPLIT = 0.9\n",
        "NUMBER_OF_CLASSES = 10\n",
        "\n",
        "set_all_seeds(RANDOM_SEED)\n",
        "set_deterministic()"
      ]
    },
    {
      "cell_type": "markdown",
      "metadata": {
        "id": "4saDohzpreq9"
      },
      "source": [
        "Let us begin by downloading (the first time is slower as the data downloaded then it is loaded form disk) the dataset and creating the loaders for training validation and test."
      ]
    },
    {
      "cell_type": "code",
      "execution_count": 22,
      "metadata": {
        "colab": {
          "base_uri": "https://localhost:8080/"
        },
        "id": "Ke_Eaibireq-",
        "outputId": "563c826d-f87a-420d-a4ff-164b06ae55f1"
      },
      "outputs": [
        {
          "output_type": "stream",
          "name": "stdout",
          "text": [
            "Files already downloaded and verified\n"
          ]
        }
      ],
      "source": [
        "# The torchvision.transforms package provides tools for preprocessing data\n",
        "# and for performing data augmentation\n",
        "\n",
        "train_transforms = T.Compose([T.Resize((70, 70)),\n",
        "                                T.RandomCrop((64, 64)),\n",
        "                                T.ToTensor(),\n",
        "                                T.Normalize((0.49139968, 0.48215827, 0.44653124), \n",
        "                                            (0.24703233, 0.24348505, 0.26158768))])\n",
        "\n",
        "test_transforms = T.Compose([T.Resize((70, 70)),\n",
        "                                T.CenterCrop((64, 64)),\n",
        "                                T.ToTensor(),\n",
        "                                T.Normalize((0.49139968, 0.48215827, 0.44653124), \n",
        "                                            (0.24703233, 0.24348505, 0.26158768))])\n",
        "\n",
        "def get_loaders(train_transforms=train_transforms, test_transforms=test_transforms):\n",
        "    \"\"\" Get dataloaders. Usefull later when creating custom transforms\n",
        "\n",
        "    Args:\n",
        "        train_transforms (_type_, optional): transforms for training data. Defaults to train_transforms.\n",
        "        test_transforms (_type_, optional): transforms for test/validation data. Defaults to test_transforms.\n",
        "\n",
        "    Returns:\n",
        "        _type_: _description_\n",
        "    \"\"\"\n",
        "    train_dataset = datasets.CIFAR10(root='./CIFAR10',\n",
        "                                        train=True,\n",
        "                                        transform=train_transforms,\n",
        "                                        download=True)\n",
        "\n",
        "    validation_dataset = datasets.CIFAR10(root='./CIFAR10',\n",
        "                                        train=True,\n",
        "                                        transform=test_transforms)\n",
        "\n",
        "    test_dataset = datasets.CIFAR10(root='./CIFAR10',\n",
        "                                        train=False,\n",
        "                                        transform=test_transforms)\n",
        "\n",
        "    dataset_size = len(train_dataset)\n",
        "    loader_train = DataLoader(train_dataset, \n",
        "                              batch_size=BATCH_SIZE, \n",
        "                              sampler=sampler.SubsetRandomSampler(range(int(dataset_size*TRAIN_VAL_SPLIT)), \n",
        "                                                                  generator=torch.Generator().manual_seed(RANDOM_SEED)))\n",
        "\n",
        "    loader_validation = DataLoader(validation_dataset, \n",
        "                                   batch_size=BATCH_SIZE, \n",
        "                                   sampler=sampler.SubsetRandomSampler(range(int(dataset_size*TRAIN_VAL_SPLIT),\n",
        "                                                                             dataset_size)))\n",
        "\n",
        "    loader_test = DataLoader(test_dataset, batch_size=BATCH_SIZE)\n",
        "    \n",
        "    return loader_train, loader_validation, loader_test\n",
        "\n",
        "if training:\n",
        "    loader_train, loader_validation, loader_test = get_loaders()\n",
        "else:\n",
        "    loader_train = loader_validation = loader_test = None"
      ]
    },
    {
      "cell_type": "markdown",
      "metadata": {
        "id": "mfcwt2-Preq_"
      },
      "source": [
        "Let us look at a sample from the dataset."
      ]
    },
    {
      "cell_type": "code",
      "execution_count": 23,
      "metadata": {
        "colab": {
          "base_uri": "https://localhost:8080/",
          "height": 304
        },
        "id": "oT5MWMy-rerA",
        "outputId": "1bb16e3c-2f86-4981-a54a-9152e94dd80a"
      },
      "outputs": [
        {
          "output_type": "display_data",
          "data": {
            "text/plain": [
              "<Figure size 288x360 with 9 Axes>"
            ],
            "image/png": "[encoded data removed]"
          },
          "metadata": {
            "needs_background": "light"
          }
        }
      ],
      "source": [
        "if training:\n",
        "    plot_dataset = datasets.CIFAR10(root='./CIFAR10',\n",
        "                                        train=True,\n",
        "                                        transform=T.Compose([T.ToTensor()]),\n",
        "                                        download=False)\n",
        "    labels_map = {\n",
        "        0: \"Airplane\",\n",
        "        1: \"Automobile\",\n",
        "        2: \"Bird\",\n",
        "        3: \"Cat\",\n",
        "        4: \"Deer\",\n",
        "        5: \"Dog\",\n",
        "        6: \"Frog\",\n",
        "        7: \"Horse\",\n",
        "        8: \"Ship\",\n",
        "        9: \"Truck\",\n",
        "    }\n",
        "    figure = plt.figure(figsize=(4, 5))\n",
        "    cols, rows = 3, 3\n",
        "    for i in range(1, cols * rows + 1):\n",
        "        sample_idx = torch.randint(len(plot_dataset), size=(1,)).item()\n",
        "        img, label = plot_dataset[sample_idx]\n",
        "        figure.add_subplot(rows, cols, i)\n",
        "        plt.title(labels_map[label])\n",
        "        plt.axis(\"off\")\n",
        "        plt.imshow(img.numpy().transpose(1, 2, 0).squeeze())\n",
        "    plt.show()"
      ]
    },
    {
      "cell_type": "markdown",
      "metadata": {
        "id": "3PXVTEodrerB"
      },
      "source": [
        "Let us define a simple fully connected network. You are going to use that model to verify your training loop later. You can see that this network has a little over `6.8 milion` trainable parameters."
      ]
    },
    {
      "cell_type": "code",
      "execution_count": 24,
      "metadata": {
        "colab": {
          "base_uri": "https://localhost:8080/"
        },
        "id": "hUXKmIRArerB",
        "outputId": "b7d46df4-b2cb-47f8-8992-6742fdf137e7"
      },
      "outputs": [
        {
          "output_type": "stream",
          "name": "stdout",
          "text": [
            "Trainable parameters: 6822410\n"
          ]
        }
      ],
      "source": [
        "model = nn.Sequential(\n",
        "    # Flatten the 2D image to 1D\n",
        "    nn.Flatten(),\n",
        "    nn.Linear(64*64*3, 512, device=device, dtype=dtype),\n",
        "    nn.ReLU(),\n",
        "    nn.Linear(512, 512, device=device, dtype=dtype),\n",
        "    nn.ReLU(),\n",
        "    nn.Linear(512, 512, device=device, dtype=dtype),\n",
        "    nn.ReLU(),\n",
        "    nn.Linear(in_features=512 , out_features=NUMBER_OF_CLASSES, device=device, dtype=dtype)\n",
        ")\n",
        "\n",
        "trainable_parameters = sum(\n",
        "\tp.numel() for p in model.parameters() if p.requires_grad\n",
        ")\n",
        "print(f\"Trainable parameters: {trainable_parameters}\")"
      ]
    },
    {
      "cell_type": "markdown",
      "metadata": {
        "id": "EVrO3zCnrerC"
      },
      "source": [
        "Let us define an optimizer and loss function. You are going to use those later to train your model. "
      ]
    },
    {
      "cell_type": "code",
      "execution_count": 25,
      "metadata": {
        "id": "wWEf6uDirerC"
      },
      "outputs": [],
      "source": [
        "optimizer = optim.Adam(model.parameters(), lr=0.0001)\n",
        "loss = nn.CrossEntropyLoss()"
      ]
    },
    {
      "cell_type": "markdown",
      "metadata": {
        "id": "sOBCrH4MrerD"
      },
      "source": [
        "## Exercise 1 A: Create training loop\n",
        "\n",
        "You need to create the [training](https://pytorch.org/tutorials/beginner/introyt/trainingyt.html) loop yourself. Start by generating your model's predictions. Zero the gradients, do a backpropagation step, followed, by an optimizer step."
      ]
    },
    {
      "cell_type": "code",
      "execution_count": 26,
      "metadata": {
        "id": "hnUPrr8urerD"
      },
      "outputs": [],
      "source": [
        "def train_model(model, optimizer=optimizer, loss=loss, epochs=1, device=device,\n",
        "                loader_train=loader_train, loader_validation=loader_validation):\n",
        "    \"\"\"Train a model with a given optimizer and loss for a set amount of epochs.\n",
        "\n",
        "    Args:\n",
        "        model : PyTorch model\n",
        "        optimizer : An optimizer object. Defaults to optimizer.\n",
        "        loss : Loss function. Defaults to loss.\n",
        "        epochs (int, optional): Number of epochs to train for. Defaults to 1.\n",
        "    \"\"\"\n",
        "    \n",
        "    model = model.to(device=device) # move model to device\n",
        "    # create dictionary to keep a log of data\n",
        "    log_dict = {'train_loss_per_batch': [],\n",
        "                'train_accuracy_per_epoch': [],\n",
        "                'train_loss_per_epoch': [],\n",
        "                'valid_accuracy_per_epoch': [],\n",
        "                'valid_loss_per_epoch': [],\n",
        "                'accuracy_deviation': [],\n",
        "                }\n",
        "    \n",
        "    for epoch in range(epochs): # iterate for number of epochs\n",
        "        print(\"Epoch: \", epoch + 1)\n",
        "        with tqdm(total=len(loader_train)) as pbar: # loading bar, ignore\n",
        "            for index, (x, y) in enumerate(loader_train): # iterate over each batch\n",
        "                model.train() # put model in training mode\n",
        "                x = x.to(device=device, dtype=dtype) # move images to device\n",
        "                y = y.to(device=device, dtype=torch.long) # move labels to device\n",
        "                \n",
        "# BEGIN your code here <<<<<<<<<<<<<<<<<<<<<<<<<<<<<<<<<<<<<<<<<<<<<<<<<<<<<<<<<<<<<<\n",
        "                # model output\n",
        "                \n",
        "                #outputs = model(x)\n",
        "                scores = model(x)\n",
        "        \n",
        "                # calculate loss\n",
        "                #loss = loss_fn(outputs, labels)\n",
        "                output_loss = loss(scores, y)\n",
        "                \n",
        "                # zero gradients\n",
        "                optimizer.zero_grad()\n",
        "                \n",
        "                # backward propagation\n",
        "                output_loss.backward()\n",
        "                \n",
        "                # optimizer step\n",
        "                optimizer.step()\n",
        "                \n",
        "# END <<<<<<<<<<<<<<<<<<<<<<<<<<<<<<<<<<<<<<<<<<<<<<<<<<<<<<<<<<<<<<<<<<<<<<<<<<<<<<<\n",
        "                \n",
        "                # log\n",
        "                log_dict['train_loss_per_batch'].append(output_loss.item())\n",
        "                \n",
        "                postfix_dict = { # output of loading bar\n",
        "                    'loss' : output_loss.item(),\n",
        "                }\n",
        "                if not index: # collect data at iteration zero, check if testing\n",
        "                    if training:\n",
        "                        train_data = check_accuracy(model, loader_train, device)\n",
        "                        log_dict['train_accuracy_per_epoch'].append(train_data[0])\n",
        "                        log_dict['train_loss_per_epoch'].append(train_data[1])\n",
        "                        val_data = check_accuracy(model, loader_validation, device)\n",
        "                        log_dict['valid_accuracy_per_epoch'].append(val_data[0])\n",
        "                        log_dict['valid_loss_per_epoch'].append(val_data[1])\n",
        "                        log_dict['accuracy_deviation'].append(\n",
        "                            train_data[0] - val_data[0])\n",
        "                        print(f\"Validation accuracy: {val_data[0]*100:.2f}\",\n",
        "                            f\" Deviation: {(train_data[0] - val_data[0])*100:.2f}\")\n",
        "                    \n",
        "                pbar.set_postfix(**postfix_dict) # set loading bar output\n",
        "                    \n",
        "                pbar.update(1)\n",
        "                sys.stdout.flush()\n",
        "    \n",
        "    if training: # check if function is being tested\n",
        "        train_data = check_accuracy(model, loader_train, device)\n",
        "        log_dict['train_accuracy_per_epoch'].append(train_data[0])\n",
        "        log_dict['train_loss_per_epoch'].append(train_data[1])\n",
        "        val_data = check_accuracy(model, loader_validation, device)\n",
        "        log_dict['valid_accuracy_per_epoch'].append(val_data[0])\n",
        "        log_dict['valid_loss_per_epoch'].append(val_data[1])\n",
        "        log_dict['accuracy_deviation'].append(train_data[0] - val_data[0])\n",
        "        print(f\"Validation accuracy: {val_data[0]*100:.2f}\", \n",
        "            f\" Deviation: {(train_data[0] - val_data[0])*100:.2f}\")\n",
        "    \n",
        "    return log_dict"
      ]
    },
    {
      "cell_type": "markdown",
      "metadata": {
        "id": "2OxhxNOyrerE"
      },
      "source": [
        "### Train the model and evaluate performance\n",
        "Let us train the model for 10 epochs and evaluate performance on the test dataset. Plot accuracy and loss per epoch."
      ]
    },
    {
      "cell_type": "code",
      "execution_count": 27,
      "metadata": {
        "colab": {
          "base_uri": "https://localhost:8080/"
        },
        "id": "Z8vCCwtdrerF",
        "outputId": "dba03ad0-964e-4b27-e00d-07ec135a13b0"
      },
      "outputs": [
        {
          "output_type": "stream",
          "name": "stdout",
          "text": [
            "Epoch:  1\n"
          ]
        },
        {
          "output_type": "stream",
          "name": "stderr",
          "text": [
            "  1%|          | 1/180 [00:30<1:30:14, 30.25s/it, loss=2.3]"
          ]
        },
        {
          "output_type": "stream",
          "name": "stdout",
          "text": [
            "Validation accuracy: 17.24  Deviation: -0.22\n"
          ]
        },
        {
          "output_type": "stream",
          "name": "stderr",
          "text": [
            "100%|██████████| 180/180 [00:55<00:00,  3.22it/s, loss=1.59]\n"
          ]
        },
        {
          "output_type": "stream",
          "name": "stdout",
          "text": [
            "Epoch:  2\n"
          ]
        },
        {
          "output_type": "stream",
          "name": "stderr",
          "text": [
            "  1%|          | 1/180 [00:26<1:17:41, 26.04s/it, loss=1.53]"
          ]
        },
        {
          "output_type": "stream",
          "name": "stdout",
          "text": [
            "Validation accuracy: 45.18  Deviation: -0.14\n"
          ]
        },
        {
          "output_type": "stream",
          "name": "stderr",
          "text": [
            "100%|██████████| 180/180 [00:51<00:00,  3.50it/s, loss=1.64]\n"
          ]
        },
        {
          "output_type": "stream",
          "name": "stdout",
          "text": [
            "Epoch:  3\n"
          ]
        },
        {
          "output_type": "stream",
          "name": "stderr",
          "text": [
            "  1%|          | 1/180 [00:26<1:18:28, 26.31s/it, loss=1.52]"
          ]
        },
        {
          "output_type": "stream",
          "name": "stdout",
          "text": [
            "Validation accuracy: 48.96  Deviation: 0.58\n"
          ]
        },
        {
          "output_type": "stream",
          "name": "stderr",
          "text": [
            "100%|██████████| 180/180 [00:51<00:00,  3.48it/s, loss=1.42]\n"
          ]
        },
        {
          "output_type": "stream",
          "name": "stdout",
          "text": [
            "Epoch:  4\n"
          ]
        },
        {
          "output_type": "stream",
          "name": "stderr",
          "text": [
            "  1%|          | 1/180 [00:25<1:15:36, 25.35s/it, loss=1.43]"
          ]
        },
        {
          "output_type": "stream",
          "name": "stdout",
          "text": [
            "Validation accuracy: 50.82  Deviation: 0.84\n"
          ]
        },
        {
          "output_type": "stream",
          "name": "stderr",
          "text": [
            "100%|██████████| 180/180 [00:50<00:00,  3.57it/s, loss=1.31]\n"
          ]
        },
        {
          "output_type": "stream",
          "name": "stdout",
          "text": [
            "Epoch:  5\n"
          ]
        },
        {
          "output_type": "stream",
          "name": "stderr",
          "text": [
            "  1%|          | 1/180 [00:25<1:15:33, 25.33s/it, loss=1.36]"
          ]
        },
        {
          "output_type": "stream",
          "name": "stdout",
          "text": [
            "Validation accuracy: 52.64  Deviation: 1.61\n"
          ]
        },
        {
          "output_type": "stream",
          "name": "stderr",
          "text": [
            "100%|██████████| 180/180 [00:50<00:00,  3.56it/s, loss=1.44]\n"
          ]
        },
        {
          "output_type": "stream",
          "name": "stdout",
          "text": [
            "Epoch:  6\n"
          ]
        },
        {
          "output_type": "stream",
          "name": "stderr",
          "text": [
            "  1%|          | 1/180 [00:25<1:15:55, 25.45s/it, loss=1.26]"
          ]
        },
        {
          "output_type": "stream",
          "name": "stdout",
          "text": [
            "Validation accuracy: 52.90  Deviation: 3.21\n"
          ]
        },
        {
          "output_type": "stream",
          "name": "stderr",
          "text": [
            "100%|██████████| 180/180 [00:50<00:00,  3.54it/s, loss=1.29]\n"
          ]
        },
        {
          "output_type": "stream",
          "name": "stdout",
          "text": [
            "Epoch:  7\n"
          ]
        },
        {
          "output_type": "stream",
          "name": "stderr",
          "text": [
            "  1%|          | 1/180 [00:25<1:17:02, 25.83s/it, loss=1.22]"
          ]
        },
        {
          "output_type": "stream",
          "name": "stdout",
          "text": [
            "Validation accuracy: 53.90  Deviation: 3.45\n"
          ]
        },
        {
          "output_type": "stream",
          "name": "stderr",
          "text": [
            "100%|██████████| 180/180 [00:51<00:00,  3.49it/s, loss=1.25]\n"
          ]
        },
        {
          "output_type": "stream",
          "name": "stdout",
          "text": [
            "Epoch:  8\n"
          ]
        },
        {
          "output_type": "stream",
          "name": "stderr",
          "text": [
            "  1%|          | 1/180 [00:25<1:15:42, 25.38s/it, loss=1.1]"
          ]
        },
        {
          "output_type": "stream",
          "name": "stdout",
          "text": [
            "Validation accuracy: 54.78  Deviation: 4.36\n"
          ]
        },
        {
          "output_type": "stream",
          "name": "stderr",
          "text": [
            "100%|██████████| 180/180 [00:50<00:00,  3.55it/s, loss=1.15]\n"
          ]
        },
        {
          "output_type": "stream",
          "name": "stdout",
          "text": [
            "Epoch:  9\n"
          ]
        },
        {
          "output_type": "stream",
          "name": "stderr",
          "text": [
            "  1%|          | 1/180 [00:25<1:17:01, 25.82s/it, loss=1.19]"
          ]
        },
        {
          "output_type": "stream",
          "name": "stdout",
          "text": [
            "Validation accuracy: 55.20  Deviation: 5.46\n"
          ]
        },
        {
          "output_type": "stream",
          "name": "stderr",
          "text": [
            "100%|██████████| 180/180 [00:51<00:00,  3.51it/s, loss=1.22]\n"
          ]
        },
        {
          "output_type": "stream",
          "name": "stdout",
          "text": [
            "Epoch:  10\n"
          ]
        },
        {
          "output_type": "stream",
          "name": "stderr",
          "text": [
            "  1%|          | 1/180 [00:25<1:15:40, 25.37s/it, loss=1.05]"
          ]
        },
        {
          "output_type": "stream",
          "name": "stdout",
          "text": [
            "Validation accuracy: 55.26  Deviation: 6.57\n"
          ]
        },
        {
          "output_type": "stream",
          "name": "stderr",
          "text": [
            "100%|██████████| 180/180 [00:50<00:00,  3.57it/s, loss=1.26]\n"
          ]
        },
        {
          "output_type": "stream",
          "name": "stdout",
          "text": [
            "Validation accuracy: 56.32  Deviation: 6.60\n",
            "Test set accuracy:  0.5551\n"
          ]
        }
      ],
      "source": [
        "epochs = 10\n",
        "if training:\n",
        "    log_dict = train_model(model, optimizer, loss, epochs)\n",
        "    print(\"Test set accuracy: \", check_accuracy(model, loader_test, device)[0])"
      ]
    },
    {
      "cell_type": "markdown",
      "metadata": {
        "id": "iJOjiIR6rerF"
      },
      "source": [
        "Leet us look at a plot of the accuracy and loss."
      ]
    },
    {
      "cell_type": "code",
      "execution_count": 28,
      "metadata": {
        "colab": {
          "base_uri": "https://localhost:8080/",
          "height": 279
        },
        "id": "mclnRiuurerF",
        "outputId": "18143792-e638-4bb2-a6d2-f45b3f7b0c93"
      },
      "outputs": [
        {
          "output_type": "display_data",
          "data": {
            "text/plain": [
              "<Figure size 864x288 with 2 Axes>"
            ],
            "image/png": "[encoded data removed]"
          },
          "metadata": {
            "needs_background": "light"
          }
        }
      ],
      "source": [
        "def plot_accuracy_loss(log_dict, epochs=epochs, training=training):\n",
        "    if training:\n",
        "        figure = plt.figure(1, figsize=(12, 4))\n",
        "        figure.add_subplot(1, 2, 1)\n",
        "        batch_loss = log_dict['train_loss_per_batch']\n",
        "        plt.plot(batch_loss, label='Minibatch loss')\n",
        "        plt.plot(np.convolve(batch_loss, np.ones(200,)/200, mode='valid'), label='Running average')\n",
        "        plt.ylabel('Loss')\n",
        "        plt.xlabel('Iteration')\n",
        "        plt.grid()\n",
        "        plt.legend()\n",
        "        \n",
        "        figure.add_subplot(1, 2, 2)\n",
        "        plt.plot(np.arange(0, epochs+1), log_dict['train_accuracy_per_epoch'], label='Training')\n",
        "        plt.plot(np.arange(0, epochs+1), log_dict['valid_accuracy_per_epoch'], label='Validation')\n",
        "        plt.xlabel('Epoch')\n",
        "        plt.ylabel('Accuracy')\n",
        "        plt.legend()\n",
        "        plt.grid()\n",
        "        plt.show()\n",
        "        \n",
        "if training:\n",
        "    plot_accuracy_loss(log_dict)"
      ]
    },
    {
      "cell_type": "markdown",
      "metadata": {
        "id": "PoIEa8-LrerG"
      },
      "source": [
        "## Exercise 1 B: Fully connected neural network\n",
        "\n",
        "In this exercise you are asked to create a fully connected neural network. Create a network consisting of 7 linear layers. The network should follow a diamond structure, make the first layer with 512 nodes and double this for each next node untill the middle layer (layer 4), then half for the layers following that. The last layer should then have 512 nodes. Add [ReLU](https://pytorch.org/docs/stable/generated/torch.nn.ReLU.html) activation after each layer. Make sure to [flatten](https://pytorch.org/docs/stable/generated/torch.nn.Flatten.html) the input layer.\n",
        "\n",
        "<center>\n",
        "\n",
        "| Layer | Type | Output size | Activation |\n",
        "| ------|------|:-----------:|:----------:| \n",
        "| Input |Image |    64x64    | ReLU       |\n",
        "| 1     |Linear|     512     | ReLU       |\n",
        "| 2     |Linear|     1024    | ReLU       |\n",
        "| 3     |Linear|     2048    | ReLU       |\n",
        "| 4     |Linear|     4096    | ReLU       |\n",
        "| 5     |Linear|     2048    | ReLU       |\n",
        "| 6     |Linear|     1024    | ReLU       |\n",
        "| 7     |Linear|     512     | ReLU       |\n",
        "| 8     |Linear|     10      | ReLU       |\n",
        "\n",
        "</center>"
      ]
    },
    {
      "cell_type": "code",
      "execution_count": 29,
      "metadata": {
        "colab": {
          "base_uri": "https://localhost:8080/"
        },
        "id": "pKCjIObMrerG",
        "outputId": "8d5adca4-703b-46ae-e25b-6373bfb590b0"
      },
      "outputs": [
        {
          "output_type": "stream",
          "name": "stdout",
          "text": [
            "Model:  Sequential(\n",
            "  (0): Flatten(start_dim=1, end_dim=-1)\n",
            "  (1): Linear(in_features=12288, out_features=512, bias=True)\n",
            "  (2): ReLU()\n",
            "  (3): Linear(in_features=512, out_features=1024, bias=True)\n",
            "  (4): ReLU()\n",
            "  (5): Linear(in_features=1024, out_features=2048, bias=True)\n",
            "  (6): ReLU()\n",
            "  (7): Linear(in_features=2048, out_features=4096, bias=True)\n",
            "  (8): ReLU()\n",
            "  (9): Linear(in_features=4096, out_features=2048, bias=True)\n",
            "  (10): ReLU()\n",
            "  (11): Linear(in_features=2048, out_features=1024, bias=True)\n",
            "  (12): ReLU()\n",
            "  (13): Linear(in_features=1024, out_features=512, bias=True)\n",
            "  (14): ReLU()\n",
            "  (15): Linear(in_features=512, out_features=10, bias=True)\n",
            ")\n"
          ]
        }
      ],
      "source": [
        "def model_fcnn():\n",
        "    return nn.Sequential(\n",
        "                # Flatten the 2D image to 1D\n",
        "# BEGIN your code here <<<<<<<<<<<<<<<<<<<<<<<<<<<<<<<<<<<<<<<<<<<<<<<<<<<<<<<<<<<<<<\n",
        "                nn.Flatten(),\n",
        "                nn.Linear(64*64*3, 512, device=device, dtype=dtype),\n",
        "                nn.ReLU(),\n",
        "                nn.Linear(512, 1024, device=device, dtype=dtype),\n",
        "                nn.ReLU(),\n",
        "                nn.Linear(1024, 2048, device=device, dtype=dtype),\n",
        "                nn.ReLU(),\n",
        "                nn.Linear(2048, 4096, device=device, dtype=dtype),\n",
        "                nn.ReLU(),\n",
        "                nn.Linear(4096, 2048, device=device, dtype=dtype),\n",
        "                nn.ReLU(),\n",
        "                nn.Linear(2048, 1024, device=device, dtype=dtype),\n",
        "                nn.ReLU(),\n",
        "                nn.Linear(1024, 512, device=device, dtype=dtype),\n",
        "                nn.ReLU(),\n",
        "                nn.Linear(512, 10, device=device, dtype=dtype)\n",
        "# END <<<<<<<<<<<<<<<<<<<<<<<<<<<<<<<<<<<<<<<<<<<<<<<<<<<<<<<<<<<<<<<<<<<<<<<<<<<<<<<\n",
        "            )\n",
        "model = model_fcnn()\n",
        "\n",
        "print(\"Model: \", model)"
      ]
    },
    {
      "cell_type": "markdown",
      "metadata": {
        "id": "QDaloqVcrerG"
      },
      "source": [
        "Train the network and plot results. Do not forget to define an optimizer and loss function. Use Adam with a learning rate of 0.0001 and an appropritate loss. Train the model for 10 epochs."
      ]
    },
    {
      "cell_type": "code",
      "execution_count": 30,
      "metadata": {
        "colab": {
          "base_uri": "https://localhost:8080/",
          "height": 834
        },
        "id": "7l_Mv9-VrerH",
        "outputId": "cf24f468-ce81-41b3-8bdd-c6d581d52ae8"
      },
      "outputs": [
        {
          "output_type": "stream",
          "name": "stdout",
          "text": [
            "Epoch:  1\n"
          ]
        },
        {
          "output_type": "stream",
          "name": "stderr",
          "text": [
            "  1%|          | 1/180 [00:27<1:21:31, 27.33s/it, loss=2.3]"
          ]
        },
        {
          "output_type": "stream",
          "name": "stdout",
          "text": [
            "Validation accuracy: 11.70  Deviation: -1.06\n"
          ]
        },
        {
          "output_type": "stream",
          "name": "stderr",
          "text": [
            "100%|██████████| 180/180 [00:56<00:00,  3.17it/s, loss=1.64]\n"
          ]
        },
        {
          "output_type": "stream",
          "name": "stdout",
          "text": [
            "Epoch:  2\n"
          ]
        },
        {
          "output_type": "stream",
          "name": "stderr",
          "text": [
            "  1%|          | 1/180 [00:26<1:19:30, 26.65s/it, loss=1.7]"
          ]
        },
        {
          "output_type": "stream",
          "name": "stdout",
          "text": [
            "Validation accuracy: 41.62  Deviation: 0.15\n"
          ]
        },
        {
          "output_type": "stream",
          "name": "stderr",
          "text": [
            "100%|██████████| 180/180 [00:56<00:00,  3.20it/s, loss=1.54]\n"
          ]
        },
        {
          "output_type": "stream",
          "name": "stdout",
          "text": [
            "Epoch:  3\n"
          ]
        },
        {
          "output_type": "stream",
          "name": "stderr",
          "text": [
            "  1%|          | 1/180 [00:27<1:20:49, 27.09s/it, loss=1.52]"
          ]
        },
        {
          "output_type": "stream",
          "name": "stdout",
          "text": [
            "Validation accuracy: 47.52  Deviation: -0.19\n"
          ]
        },
        {
          "output_type": "stream",
          "name": "stderr",
          "text": [
            "100%|██████████| 180/180 [00:57<00:00,  3.12it/s, loss=1.43]\n"
          ]
        },
        {
          "output_type": "stream",
          "name": "stdout",
          "text": [
            "Epoch:  4\n"
          ]
        },
        {
          "output_type": "stream",
          "name": "stderr",
          "text": [
            "  1%|          | 1/180 [00:26<1:19:56, 26.80s/it, loss=1.38]"
          ]
        },
        {
          "output_type": "stream",
          "name": "stdout",
          "text": [
            "Validation accuracy: 49.96  Deviation: 1.27\n"
          ]
        },
        {
          "output_type": "stream",
          "name": "stderr",
          "text": [
            "100%|██████████| 180/180 [00:56<00:00,  3.19it/s, loss=1.45]\n"
          ]
        },
        {
          "output_type": "stream",
          "name": "stdout",
          "text": [
            "Epoch:  5\n"
          ]
        },
        {
          "output_type": "stream",
          "name": "stderr",
          "text": [
            "  1%|          | 1/180 [00:26<1:18:32, 26.33s/it, loss=1.31]"
          ]
        },
        {
          "output_type": "stream",
          "name": "stdout",
          "text": [
            "Validation accuracy: 52.48  Deviation: 1.36\n"
          ]
        },
        {
          "output_type": "stream",
          "name": "stderr",
          "text": [
            "100%|██████████| 180/180 [00:55<00:00,  3.26it/s, loss=1.34]\n"
          ]
        },
        {
          "output_type": "stream",
          "name": "stdout",
          "text": [
            "Epoch:  6\n"
          ]
        },
        {
          "output_type": "stream",
          "name": "stderr",
          "text": [
            "  1%|          | 1/180 [00:26<1:19:34, 26.68s/it, loss=1.2]"
          ]
        },
        {
          "output_type": "stream",
          "name": "stdout",
          "text": [
            "Validation accuracy: 52.84  Deviation: 4.74\n"
          ]
        },
        {
          "output_type": "stream",
          "name": "stderr",
          "text": [
            "100%|██████████| 180/180 [00:56<00:00,  3.21it/s, loss=1.21]\n"
          ]
        },
        {
          "output_type": "stream",
          "name": "stdout",
          "text": [
            "Epoch:  7\n"
          ]
        },
        {
          "output_type": "stream",
          "name": "stderr",
          "text": [
            "  1%|          | 1/180 [00:26<1:18:45, 26.40s/it, loss=1.25]"
          ]
        },
        {
          "output_type": "stream",
          "name": "stdout",
          "text": [
            "Validation accuracy: 53.86  Deviation: 5.13\n"
          ]
        },
        {
          "output_type": "stream",
          "name": "stderr",
          "text": [
            "100%|██████████| 180/180 [00:55<00:00,  3.25it/s, loss=1.14]\n"
          ]
        },
        {
          "output_type": "stream",
          "name": "stdout",
          "text": [
            "Epoch:  8\n"
          ]
        },
        {
          "output_type": "stream",
          "name": "stderr",
          "text": [
            "  1%|          | 1/180 [00:26<1:19:42, 26.72s/it, loss=1.11]"
          ]
        },
        {
          "output_type": "stream",
          "name": "stdout",
          "text": [
            "Validation accuracy: 54.64  Deviation: 6.87\n"
          ]
        },
        {
          "output_type": "stream",
          "name": "stderr",
          "text": [
            "100%|██████████| 180/180 [00:55<00:00,  3.22it/s, loss=1.09]\n"
          ]
        },
        {
          "output_type": "stream",
          "name": "stdout",
          "text": [
            "Epoch:  9\n"
          ]
        },
        {
          "output_type": "stream",
          "name": "stderr",
          "text": [
            "  1%|          | 1/180 [00:26<1:17:46, 26.07s/it, loss=0.99]"
          ]
        },
        {
          "output_type": "stream",
          "name": "stdout",
          "text": [
            "Validation accuracy: 54.88  Deviation: 8.65\n"
          ]
        },
        {
          "output_type": "stream",
          "name": "stderr",
          "text": [
            "100%|██████████| 180/180 [00:54<00:00,  3.27it/s, loss=1.08]\n"
          ]
        },
        {
          "output_type": "stream",
          "name": "stdout",
          "text": [
            "Epoch:  10\n"
          ]
        },
        {
          "output_type": "stream",
          "name": "stderr",
          "text": [
            "  1%|          | 1/180 [00:26<1:19:15, 26.57s/it, loss=0.843]"
          ]
        },
        {
          "output_type": "stream",
          "name": "stdout",
          "text": [
            "Validation accuracy: 56.68  Deviation: 10.10\n"
          ]
        },
        {
          "output_type": "stream",
          "name": "stderr",
          "text": [
            "100%|██████████| 180/180 [00:55<00:00,  3.23it/s, loss=0.917]\n"
          ]
        },
        {
          "output_type": "stream",
          "name": "stdout",
          "text": [
            "Validation accuracy: 56.80  Deviation: 13.98\n",
            "Test set accuracy:  0.5629\n"
          ]
        },
        {
          "output_type": "display_data",
          "data": {
            "text/plain": [
              "<Figure size 864x288 with 2 Axes>"
            ],
            "image/png": "[encoded data removed]"
          },
          "metadata": {
            "needs_background": "light"
          }
        }
      ],
      "source": [
        "epochs = 10\n",
        "# BEGIN your code here <<<<<<<<<<<<<<<<<<<<<<<<<<<<<<<<<<<<<<<<<<<<<<<<<<<<<<<<<<<<<<\n",
        "optimizer = optim.Adam(model.parameters(), lr=0.0001)\n",
        "loss_fcnn = nn.CrossEntropyLoss()\n",
        "# END <<<<<<<<<<<<<<<<<<<<<<<<<<<<<<<<<<<<<<<<<<<<<<<<<<<<<<<<<<<<<<<<<<<<<<<<<<<<<<<\n",
        "if training:\n",
        "    log_dict = train_model(model, optimizer, loss_fcnn, epochs)\n",
        "    print(\"Test set accuracy: \", check_accuracy(model, loader_test, device)[0])\n",
        "    plot_accuracy_loss(log_dict, epochs)"
      ]
    },
    {
      "cell_type": "markdown",
      "metadata": {
        "id": "4CLN7NvqrerH"
      },
      "source": [
        "Let us have a look at the number of trainable parameters in the network you defined."
      ]
    },
    {
      "cell_type": "code",
      "execution_count": 31,
      "metadata": {
        "colab": {
          "base_uri": "https://localhost:8080/"
        },
        "id": "F44kdmjrrerH",
        "outputId": "27cb8dad-9a0a-4405-ad17-410b88d5cc2b"
      },
      "outputs": [
        {
          "output_type": "stream",
          "name": "stdout",
          "text": [
            "Trainable parameters: 28327946\n"
          ]
        }
      ],
      "source": [
        "trainable_parameters = sum(\n",
        "\tp.numel() for p in model.parameters() if p.requires_grad\n",
        ")\n",
        "print(f\"Trainable parameters: {trainable_parameters}\")"
      ]
    },
    {
      "cell_type": "markdown",
      "metadata": {
        "id": "V0KUG8lhrerH"
      },
      "source": [
        "While the performance of the example network and the FCNN you defined is simmilar, the latter has around 4 times the number of trainable parameters."
      ]
    },
    {
      "cell_type": "markdown",
      "metadata": {
        "id": "8-vquSDrrerI"
      },
      "source": [
        "## Exercise 2 A: Convolutional Neural Networks\n",
        "\n",
        "In this exercise you are asked to implement a convolutional neural network. You can observe the accuracy increase compared to a FCNN. Later you are going to extend the network in order to achieve a higher accuracy.\n",
        "\n",
        "Implement a scaled down version of AlexNet. To that end you will use knowledge from the previous exercise but you would also need to add [convolutional layers](https://pytorch.org/docs/stable/generated/torch.nn.Conv2d.html), [droput](https://pytorch.org/docs/stable/generated/torch.nn.Dropout.html) and [max pooling layers](https://pytorch.org/docs/stable/generated/torch.nn.MaxPool2d.html).\n",
        "\n",
        "The architecture is summarized in the table bellow:\n",
        "\n",
        "<center>\n",
        "\n",
        "| Layer | Type | Feature map | Output size | Kernel size | Stride | Padding | Activation |\n",
        "| ------|------|:-----------:|:-----------:|:-----------:|:------:|:-------:|:----------:| \n",
        "| Input |Image |      3      |    64x64    | None        | None   | None    | None       |\n",
        "| 1     |Conv  |      24     |    32x32    | 7x7         | 2      | 3       | ReLU       |\n",
        "| 2     |Max pool|    24     |    16x16    | 3x3         | 2      | 1       | None       |\n",
        "| 3     |Conv  |      64     |    16x16    | 5x5         | 1      | 2       | ReLU       |\n",
        "| 4     |Max pool|    64     |     8x8     | 3x3         | 2      | 1       | None       |\n",
        "| 5     |Conv  |      96     |     8x8     | 3x3         | 1      | 1       | ReLU       |\n",
        "| 6     | Max pool|   96     |     4x4     | 3x3         | 2      | 1       | None       |\n",
        "| 7     |Linear|     None    |    1024     | None        | None   | None    | ReLU       |\n",
        "| 8     |Dropout|    None    |     0.5     | None        | None   | None    | None       |\n",
        "| 9     |Linear|     None    |    1024     | None        | None   | None    | ReLU       |\n",
        "| 10    |Dropout|    None    |     0.5     | None        | None   | None    | None       |\n",
        "| 11    |Linear|     None    |     10      | None        | None   | None    | None       |\n",
        "\n",
        "</center>\n"
      ]
    },
    {
      "cell_type": "code",
      "execution_count": 32,
      "metadata": {
        "colab": {
          "base_uri": "https://localhost:8080/"
        },
        "id": "eZfxKIelrerI",
        "outputId": "f481138e-079b-4101-ab00-eb6aa3fb3e06"
      },
      "outputs": [
        {
          "output_type": "stream",
          "name": "stdout",
          "text": [
            "Trainable parameters: 2731146\n"
          ]
        }
      ],
      "source": [
        "def model_alexnet():\n",
        "    return nn.Sequential(\n",
        "# BEGIN your code here <<<<<<<<<<<<<<<<<<<<<<<<<<<<<<<<<<<<<<<<<<<<<<<<<<<<<<<<<<<<<<\n",
        "        nn.Conv2d(3, 24, kernel_size=7, stride=2, padding=3),\n",
        "        nn.ReLU(),\n",
        "        nn.MaxPool2d(kernel_size=3, stride=2, padding=1),\n",
        "        \n",
        "        nn.Conv2d(24, 64, kernel_size=5, stride=1, padding=2),\n",
        "        nn.ReLU(),\n",
        "        nn.MaxPool2d(kernel_size=3, stride=2, padding=1),\n",
        "        \n",
        "        nn.Conv2d(64, 96, kernel_size=3, stride=1, padding=1),\n",
        "        nn.ReLU(),\n",
        "        nn.MaxPool2d(kernel_size=3, stride=2, padding=1),\n",
        "        \n",
        "        nn.Flatten(),\n",
        "        nn.Linear(96*4*4, 1024, device=device, dtype=dtype),\n",
        "        nn.ReLU(),\n",
        "        nn.Dropout(p=0.5),\n",
        "        \n",
        "        nn.Linear(1024, 1024, device=device, dtype=dtype),\n",
        "        nn.ReLU(),\n",
        "        nn.Dropout(p=0.5),\n",
        "        \n",
        "        nn.Linear(1024, 10, device=device, dtype=dtype)\n",
        "# END <<<<<<<<<<<<<<<<<<<<<<<<<<<<<<<<<<<<<<<<<<<<<<<<<<<<<<<<<<<<<<<<<<<<<<<<<<<<<<< \n",
        ")\n",
        "\n",
        "model = model_alexnet()\n",
        "\n",
        "trainable_parameters = sum(\n",
        "\tp.numel() for p in model.parameters() if p.requires_grad\n",
        ")\n",
        "print(f\"Trainable parameters: {trainable_parameters}\")"
      ]
    },
    {
      "cell_type": "markdown",
      "metadata": {
        "id": "7Rfi7UUIrerI"
      },
      "source": [
        "Train for 20 epochs. Define the loss function and optimizer. Use Adam with a learning rate of `0.001` and an appropriate loss. Plot the results after that. You should achive test set accuracy of around `77%`."
      ]
    },
    {
      "cell_type": "code",
      "execution_count": null,
      "metadata": {
        "colab": {
          "base_uri": "https://localhost:8080/",
          "height": 1000
        },
        "id": "nnl621pRrerI",
        "outputId": "9327a85c-dd20-41e3-ca40-af289f1a0e19"
      },
      "outputs": [
        {
          "output_type": "stream",
          "name": "stdout",
          "text": [
            "Epoch:  1\n"
          ]
        },
        {
          "output_type": "stream",
          "name": "stderr",
          "text": [
            "  1%|          | 1/180 [00:31<1:34:18, 31.61s/it, loss=2.3]"
          ]
        },
        {
          "output_type": "stream",
          "name": "stdout",
          "text": [
            "Validation accuracy: 13.68  Deviation: -0.30\n"
          ]
        },
        {
          "output_type": "stream",
          "name": "stderr",
          "text": [
            "100%|██████████| 180/180 [01:00<00:00,  2.98it/s, loss=1.77]\n"
          ]
        },
        {
          "output_type": "stream",
          "name": "stdout",
          "text": [
            "Epoch:  2\n"
          ]
        },
        {
          "output_type": "stream",
          "name": "stderr",
          "text": [
            "  1%|          | 1/180 [00:27<1:22:42, 27.73s/it, loss=1.77]"
          ]
        },
        {
          "output_type": "stream",
          "name": "stdout",
          "text": [
            "Validation accuracy: 37.00  Deviation: 0.01\n"
          ]
        },
        {
          "output_type": "stream",
          "name": "stderr",
          "text": [
            "100%|██████████| 180/180 [00:56<00:00,  3.21it/s, loss=1.54]\n"
          ]
        },
        {
          "output_type": "stream",
          "name": "stdout",
          "text": [
            "Epoch:  3\n"
          ]
        },
        {
          "output_type": "stream",
          "name": "stderr",
          "text": [
            "  1%|          | 1/180 [00:26<1:18:14, 26.23s/it, loss=1.61]"
          ]
        },
        {
          "output_type": "stream",
          "name": "stdout",
          "text": [
            "Validation accuracy: 45.66  Deviation: -0.19\n"
          ]
        },
        {
          "output_type": "stream",
          "name": "stderr",
          "text": [
            "100%|██████████| 180/180 [00:54<00:00,  3.29it/s, loss=1.38]\n"
          ]
        },
        {
          "output_type": "stream",
          "name": "stdout",
          "text": [
            "Epoch:  4\n"
          ]
        },
        {
          "output_type": "stream",
          "name": "stderr",
          "text": [
            "  1%|          | 1/180 [00:27<1:22:11, 27.55s/it, loss=1.37]"
          ]
        },
        {
          "output_type": "stream",
          "name": "stdout",
          "text": [
            "Validation accuracy: 50.20  Deviation: -0.57\n"
          ]
        },
        {
          "output_type": "stream",
          "name": "stderr",
          "text": [
            "100%|██████████| 180/180 [00:55<00:00,  3.23it/s, loss=1.29]\n"
          ]
        },
        {
          "output_type": "stream",
          "name": "stdout",
          "text": [
            "Epoch:  5\n"
          ]
        },
        {
          "output_type": "stream",
          "name": "stderr",
          "text": [
            "  1%|          | 1/180 [00:26<1:18:35, 26.34s/it, loss=1.22]"
          ]
        },
        {
          "output_type": "stream",
          "name": "stdout",
          "text": [
            "Validation accuracy: 53.82  Deviation: -0.60\n"
          ]
        },
        {
          "output_type": "stream",
          "name": "stderr",
          "text": [
            "100%|██████████| 180/180 [00:55<00:00,  3.26it/s, loss=1.23]\n"
          ]
        },
        {
          "output_type": "stream",
          "name": "stdout",
          "text": [
            "Epoch:  6\n"
          ]
        },
        {
          "output_type": "stream",
          "name": "stderr",
          "text": [
            "  1%|          | 1/180 [00:26<1:19:41, 26.71s/it, loss=1.22]"
          ]
        },
        {
          "output_type": "stream",
          "name": "stdout",
          "text": [
            "Validation accuracy: 56.22  Deviation: -0.02\n"
          ]
        },
        {
          "output_type": "stream",
          "name": "stderr",
          "text": [
            "100%|██████████| 180/180 [00:55<00:00,  3.25it/s, loss=1.24]\n"
          ]
        },
        {
          "output_type": "stream",
          "name": "stdout",
          "text": [
            "Epoch:  7\n"
          ]
        },
        {
          "output_type": "stream",
          "name": "stderr",
          "text": [
            "  1%|          | 1/180 [00:26<1:18:13, 26.22s/it, loss=1.13]"
          ]
        },
        {
          "output_type": "stream",
          "name": "stdout",
          "text": [
            "Validation accuracy: 59.46  Deviation: -0.92\n"
          ]
        },
        {
          "output_type": "stream",
          "name": "stderr",
          "text": [
            "100%|██████████| 180/180 [00:55<00:00,  3.27it/s, loss=1.11]\n"
          ]
        },
        {
          "output_type": "stream",
          "name": "stdout",
          "text": [
            "Epoch:  8\n"
          ]
        },
        {
          "output_type": "stream",
          "name": "stderr",
          "text": [
            "  1%|          | 1/180 [00:26<1:19:29, 26.64s/it, loss=1.13]"
          ]
        },
        {
          "output_type": "stream",
          "name": "stdout",
          "text": [
            "Validation accuracy: 59.48  Deviation: 0.06\n"
          ]
        },
        {
          "output_type": "stream",
          "name": "stderr",
          "text": [
            "100%|██████████| 180/180 [00:55<00:00,  3.27it/s, loss=1.09]\n"
          ]
        },
        {
          "output_type": "stream",
          "name": "stdout",
          "text": [
            "Epoch:  9\n"
          ]
        },
        {
          "output_type": "stream",
          "name": "stderr",
          "text": [
            "  1%|          | 1/180 [00:26<1:19:17, 26.58s/it, loss=1.13]"
          ]
        },
        {
          "output_type": "stream",
          "name": "stdout",
          "text": [
            "Validation accuracy: 62.12  Deviation: -0.57\n"
          ]
        },
        {
          "output_type": "stream",
          "name": "stderr",
          "text": [
            "100%|██████████| 180/180 [00:55<00:00,  3.26it/s, loss=0.991]\n"
          ]
        },
        {
          "output_type": "stream",
          "name": "stdout",
          "text": [
            "Epoch:  10\n"
          ]
        },
        {
          "output_type": "stream",
          "name": "stderr",
          "text": [
            "  1%|          | 1/180 [00:26<1:18:51, 26.43s/it, loss=1.12]"
          ]
        },
        {
          "output_type": "stream",
          "name": "stdout",
          "text": [
            "Validation accuracy: 64.10  Deviation: -0.25\n"
          ]
        },
        {
          "output_type": "stream",
          "name": "stderr",
          "text": [
            "100%|██████████| 180/180 [00:55<00:00,  3.24it/s, loss=1.06]\n"
          ]
        },
        {
          "output_type": "stream",
          "name": "stdout",
          "text": [
            "Epoch:  11\n"
          ]
        },
        {
          "output_type": "stream",
          "name": "stderr",
          "text": [
            "  1%|          | 1/180 [00:26<1:20:26, 26.97s/it, loss=1.13]"
          ]
        },
        {
          "output_type": "stream",
          "name": "stdout",
          "text": [
            "Validation accuracy: 65.16  Deviation: -0.14\n"
          ]
        },
        {
          "output_type": "stream",
          "name": "stderr",
          "text": [
            "100%|██████████| 180/180 [00:55<00:00,  3.26it/s, loss=0.959]\n"
          ]
        },
        {
          "output_type": "stream",
          "name": "stdout",
          "text": [
            "Epoch:  12\n"
          ]
        },
        {
          "output_type": "stream",
          "name": "stderr",
          "text": [
            "  1%|          | 1/180 [00:26<1:18:25, 26.29s/it, loss=1.02]"
          ]
        },
        {
          "output_type": "stream",
          "name": "stdout",
          "text": [
            "Validation accuracy: 66.04  Deviation: -0.48\n"
          ]
        },
        {
          "output_type": "stream",
          "name": "stderr",
          "text": [
            "100%|██████████| 180/180 [00:55<00:00,  3.26it/s, loss=0.935]\n"
          ]
        },
        {
          "output_type": "stream",
          "name": "stdout",
          "text": [
            "Epoch:  13\n"
          ]
        },
        {
          "output_type": "stream",
          "name": "stderr",
          "text": [
            "  1%|          | 1/180 [00:26<1:19:47, 26.74s/it, loss=1.02]"
          ]
        },
        {
          "output_type": "stream",
          "name": "stdout",
          "text": [
            "Validation accuracy: 67.42  Deviation: 0.19\n"
          ]
        },
        {
          "output_type": "stream",
          "name": "stderr",
          "text": [
            "100%|██████████| 180/180 [00:54<00:00,  3.28it/s, loss=0.981]\n"
          ]
        },
        {
          "output_type": "stream",
          "name": "stdout",
          "text": [
            "Epoch:  14\n"
          ]
        },
        {
          "output_type": "stream",
          "name": "stderr",
          "text": [
            "  1%|          | 1/180 [00:26<1:17:53, 26.11s/it, loss=0.959]"
          ]
        },
        {
          "output_type": "stream",
          "name": "stdout",
          "text": [
            "Validation accuracy: 69.00  Deviation: -0.39\n"
          ]
        },
        {
          "output_type": "stream",
          "name": "stderr",
          "text": [
            "100%|██████████| 180/180 [00:55<00:00,  3.24it/s, loss=0.965]\n"
          ]
        },
        {
          "output_type": "stream",
          "name": "stdout",
          "text": [
            "Epoch:  15\n"
          ]
        },
        {
          "output_type": "stream",
          "name": "stderr",
          "text": [
            "  1%|          | 1/180 [00:26<1:17:46, 26.07s/it, loss=0.904]"
          ]
        },
        {
          "output_type": "stream",
          "name": "stdout",
          "text": [
            "Validation accuracy: 68.30  Deviation: 0.66\n"
          ]
        },
        {
          "output_type": "stream",
          "name": "stderr",
          "text": [
            "100%|██████████| 180/180 [00:54<00:00,  3.31it/s, loss=0.878]\n"
          ]
        },
        {
          "output_type": "stream",
          "name": "stdout",
          "text": [
            "Epoch:  16\n"
          ]
        },
        {
          "output_type": "stream",
          "name": "stderr",
          "text": [
            "  1%|          | 1/180 [00:26<1:18:41, 26.38s/it, loss=0.904]"
          ]
        },
        {
          "output_type": "stream",
          "name": "stdout",
          "text": [
            "Validation accuracy: 70.00  Deviation: 0.86\n"
          ]
        },
        {
          "output_type": "stream",
          "name": "stderr",
          "text": [
            "100%|██████████| 180/180 [00:56<00:00,  3.20it/s, loss=0.964]\n"
          ]
        },
        {
          "output_type": "stream",
          "name": "stdout",
          "text": [
            "Epoch:  17\n"
          ]
        },
        {
          "output_type": "stream",
          "name": "stderr",
          "text": [
            "  1%|          | 1/180 [00:26<1:18:08, 26.19s/it, loss=0.92]"
          ]
        },
        {
          "output_type": "stream",
          "name": "stdout",
          "text": [
            "Validation accuracy: 70.66  Deviation: 1.16\n"
          ]
        },
        {
          "output_type": "stream",
          "name": "stderr",
          "text": [
            "100%|██████████| 180/180 [00:54<00:00,  3.30it/s, loss=0.878]\n"
          ]
        },
        {
          "output_type": "stream",
          "name": "stdout",
          "text": [
            "Epoch:  18\n"
          ]
        },
        {
          "output_type": "stream",
          "name": "stderr",
          "text": [
            "  1%|          | 1/180 [00:26<1:20:07, 26.86s/it, loss=0.793]"
          ]
        },
        {
          "output_type": "stream",
          "name": "stdout",
          "text": [
            "Validation accuracy: 71.44  Deviation: 0.52\n"
          ]
        },
        {
          "output_type": "stream",
          "name": "stderr",
          "text": [
            "100%|██████████| 180/180 [00:55<00:00,  3.25it/s, loss=1.01]\n"
          ]
        },
        {
          "output_type": "stream",
          "name": "stdout",
          "text": [
            "Epoch:  19\n"
          ]
        },
        {
          "output_type": "stream",
          "name": "stderr",
          "text": [
            "  1%|          | 1/180 [00:26<1:19:35, 26.68s/it, loss=0.837]"
          ]
        },
        {
          "output_type": "stream",
          "name": "stdout",
          "text": [
            "Validation accuracy: 72.90  Deviation: 0.86\n"
          ]
        },
        {
          "output_type": "stream",
          "name": "stderr",
          "text": [
            "100%|██████████| 180/180 [00:54<00:00,  3.28it/s, loss=0.797]\n"
          ]
        },
        {
          "output_type": "stream",
          "name": "stdout",
          "text": [
            "Epoch:  20\n"
          ]
        },
        {
          "output_type": "stream",
          "name": "stderr",
          "text": [
            "  1%|          | 1/180 [00:26<1:20:31, 26.99s/it, loss=0.747]"
          ]
        },
        {
          "output_type": "stream",
          "name": "stdout",
          "text": [
            "Validation accuracy: 72.46  Deviation: 1.14\n"
          ]
        },
        {
          "output_type": "stream",
          "name": "stderr",
          "text": [
            "100%|██████████| 180/180 [00:55<00:00,  3.27it/s, loss=0.727]\n"
          ]
        },
        {
          "output_type": "stream",
          "name": "stdout",
          "text": [
            "Validation accuracy: 73.22  Deviation: 1.31\n",
            "Test set accuracy:  0.7123\n"
          ]
        },
        {
          "output_type": "display_data",
          "data": {
            "text/plain": [
              "<Figure size 864x288 with 2 Axes>"
            ],
            "image/png": "[encoded data removed]"
          },
          "metadata": {
            "needs_background": "light"
          }
        }
      ],
      "source": [
        "epochs = 20\n",
        "# BEGIN your code here <<<<<<<<<<<<<<<<<<<<<<<<<<<<<<<<<<<<<<<<<<<<<<<<<<<<<<<<<<<<<<\n",
        "optimizer = optim.Adam(model.parameters(), lr=0.0001)\n",
        "loss_alexnet = nn.CrossEntropyLoss()\n",
        "# END <<<<<<<<<<<<<<<<<<<<<<<<<<<<<<<<<<<<<<<<<<<<<<<<<<<<<<<<<<<<<<<<<<<<<<<<<<<<<<<\n",
        "if training:\n",
        "    log_dict = train_model(model, optimizer, loss_alexnet, epochs)\n",
        "    print(\"Test set accuracy: \", check_accuracy(model, loader_test, device)[0])\n",
        "    plot_accuracy_loss(log_dict, epochs)"
      ]
    },
    {
      "cell_type": "markdown",
      "metadata": {
        "id": "RVqeV8FarerJ"
      },
      "source": [
        "Observe the number of parameters of the convolutional network. It is now around 2.5 times less than the original exapmple with a major increase in accuracy. Less parameters generally mean less computational effort as well."
      ]
    },
    {
      "cell_type": "markdown",
      "metadata": {
        "id": "zkNoE96wrerJ"
      },
      "source": [
        "## Exercise 2 B: Additional regularization\n",
        "\n",
        "From the accuracy plot you should be able to observe how the difference between the validation and training accuracy is getting bigger with each epoch. This is because the model adapts to the training data but is not able to generalize to unseen data. This phenomenon is called overfitting. Of course there are techniques that can be used to help with overfitting.\n",
        "\n",
        "To combat that, after each convolutional layer add [BatchNorm2d](https://pytorch.org/docs/stable/generated/torch.nn.BatchNorm2d.html). After each linear layer add [BatchNorm1d](https://pytorch.org/docs/stable/generated/torch.nn.BatchNorm1d.html). Also add L2 regularization\n",
        "\n",
        "Hint: L2 norm can be achieved by specifying `weight_decay > 0` to your optimizer. A good value to start should be `1e-5`\n",
        "\n",
        "Think about your solution while experimenting. For example: Would I apply batch normalization before or after drop-out? What drop-out rate should I apply given the results I have seen so far? etc.\n",
        "\n",
        "You should strive to achieve a difference between training and validation accuracy of less than 4% after 20 epochs."
      ]
    },
    {
      "cell_type": "code",
      "execution_count": 34,
      "metadata": {
        "colab": {
          "base_uri": "https://localhost:8080/"
        },
        "id": "p8HsUWsgrerJ",
        "outputId": "ab3f030a-61b3-4cc2-d684-4706a93b8013"
      },
      "outputs": [
        {
          "output_type": "stream",
          "name": "stdout",
          "text": [
            "Trainable parameters: 2735610\n"
          ]
        }
      ],
      "source": [
        "def model_alexnet_regularized():\n",
        "    return nn.Sequential(\n",
        "# BEGIN your code here <<<<<<<<<<<<<<<<<<<<<<<<<<<<<<<<<<<<<<<<<<<<<<<<<<<<<<<<<<<<<<\n",
        "        nn.Conv2d(3, 24, kernel_size=7, stride=2, padding=3),\n",
        "        nn.BatchNorm2d(24),\n",
        "        nn.ReLU(),\n",
        "        nn.MaxPool2d(kernel_size=3, stride=2, padding=1),\n",
        "        \n",
        "        nn.Conv2d(24, 64, kernel_size=5, stride=1, padding=2),\n",
        "        nn.BatchNorm2d(64),\n",
        "        nn.ReLU(),\n",
        "        nn.MaxPool2d(kernel_size=3, stride=2, padding=1),\n",
        "        \n",
        "        nn.Conv2d(64, 96, kernel_size=3, stride=1, padding=1),\n",
        "        nn.BatchNorm2d(96),\n",
        "        nn.ReLU(),\n",
        "        nn.MaxPool2d(kernel_size=3, stride=2, padding=1),\n",
        "        \n",
        "        nn.Flatten(),\n",
        "        nn.Linear(96*4*4, 1024, device=device, dtype=dtype),\n",
        "        nn.BatchNorm1d(1024),\n",
        "        nn.ReLU(),\n",
        "        nn.Dropout(p=0.55),\n",
        "        \n",
        "        nn.Linear(1024, 1024, device=device, dtype=dtype),\n",
        "        nn.BatchNorm1d(1024),\n",
        "        nn.ReLU(),\n",
        "        nn.Dropout(p=0.55),\n",
        "        \n",
        "        nn.Linear(1024, 10, device=device, dtype=dtype)\n",
        "# END <<<<<<<<<<<<<<<<<<<<<<<<<<<<<<<<<<<<<<<<<<<<<<<<<<<<<<<<<<<<<<<<<<<<<<<<<<<<<<<\n",
        ")\n",
        "\n",
        "model = model_alexnet_regularized()\n",
        "\n",
        "trainable_parameters = sum(\n",
        "\tp.numel() for p in model.parameters() if p.requires_grad\n",
        ")\n",
        "print(f\"Trainable parameters: {trainable_parameters}\")"
      ]
    },
    {
      "cell_type": "markdown",
      "metadata": {
        "id": "52qzEUTgrerJ"
      },
      "source": [
        "One of the best ways to improve accuracy and reduce overfitting is data augmentation. Have a look at the [transforms](https://pytorch.org/vision/stable/auto_examples/plot_transforms.html#sphx-glr-auto-examples-plot-transforms-py) that PyTorch provides and think what would be suitable in this case."
      ]
    },
    {
      "cell_type": "code",
      "execution_count": 35,
      "metadata": {
        "colab": {
          "base_uri": "https://localhost:8080/"
        },
        "id": "rA3klbLLrerK",
        "outputId": "e1dd6f24-33cf-4bd9-aebb-54b2f7ceaab5"
      },
      "outputs": [
        {
          "output_type": "stream",
          "name": "stdout",
          "text": [
            "Files already downloaded and verified\n"
          ]
        }
      ],
      "source": [
        "# Add the transforms you beleive would help\n",
        "train_transforms = T.Compose([T.Resize((70, 70)),\n",
        "                                T.RandomCrop((64, 64)),\n",
        "# BEGIN your code here <<<<<<<<<<<<<<<<<<<<<<<<<<<<<<<<<<<<<<<<<<<<<<<<<<<<<<<<<<<<<<\n",
        "                                T.AutoAugment(T.AutoAugmentPolicy.CIFAR10),\n",
        "                                #T.RandomRotation(degrees=(0, 180)),                                 \n",
        "# END <<<<<<<<<<<<<<<<<<<<<<<<<<<<<<<<<<<<<<<<<<<<<<<<<<<<<<<<<<<<<<<<<<<<<<<<<<<<<<<\n",
        "                                T.ToTensor(),\n",
        "                                T.Normalize((0.49139968, 0.48215827, 0.44653124), \n",
        "                                            (0.24703233, 0.24348505, 0.26158768))])\n",
        "\n",
        "loader_train, loader_validation, loader_test = get_loaders(train_transforms=train_transforms)"
      ]
    },
    {
      "cell_type": "markdown",
      "metadata": {
        "id": "Os2SQPXarerK"
      },
      "source": [
        "Define the loss and optimizer. Use Adam with learning rate of `0.001` and an appropriate loss."
      ]
    },
    {
      "cell_type": "code",
      "execution_count": 36,
      "metadata": {
        "colab": {
          "base_uri": "https://localhost:8080/",
          "height": 1000
        },
        "id": "YzmRe6r4rerK",
        "outputId": "f23aaed5-4f54-4003-92a4-87e9dab9f38f"
      },
      "outputs": [
        {
          "output_type": "stream",
          "name": "stdout",
          "text": [
            "Epoch:  1\n"
          ]
        },
        {
          "output_type": "stream",
          "name": "stderr",
          "text": [
            "  1%|          | 1/180 [00:44<2:12:23, 44.38s/it, loss=2.48]"
          ]
        },
        {
          "output_type": "stream",
          "name": "stdout",
          "text": [
            "Validation accuracy: 10.12  Deviation: 0.28\n"
          ]
        },
        {
          "output_type": "stream",
          "name": "stderr",
          "text": [
            "100%|██████████| 180/180 [01:32<00:00,  1.94it/s, loss=1.49]\n"
          ]
        },
        {
          "output_type": "stream",
          "name": "stdout",
          "text": [
            "Epoch:  2\n"
          ]
        },
        {
          "output_type": "stream",
          "name": "stderr",
          "text": [
            "  1%|          | 1/180 [00:44<2:14:14, 45.00s/it, loss=1.46]"
          ]
        },
        {
          "output_type": "stream",
          "name": "stdout",
          "text": [
            "Validation accuracy: 56.50  Deviation: -9.26\n"
          ]
        },
        {
          "output_type": "stream",
          "name": "stderr",
          "text": [
            "100%|██████████| 180/180 [01:33<00:00,  1.93it/s, loss=1.41]\n"
          ]
        },
        {
          "output_type": "stream",
          "name": "stdout",
          "text": [
            "Epoch:  3\n"
          ]
        },
        {
          "output_type": "stream",
          "name": "stderr",
          "text": [
            "  1%|          | 1/180 [00:44<2:11:33, 44.10s/it, loss=1.47]"
          ]
        },
        {
          "output_type": "stream",
          "name": "stdout",
          "text": [
            "Validation accuracy: 58.62  Deviation: -9.75\n"
          ]
        },
        {
          "output_type": "stream",
          "name": "stderr",
          "text": [
            "100%|██████████| 180/180 [01:31<00:00,  1.96it/s, loss=1.13]\n"
          ]
        },
        {
          "output_type": "stream",
          "name": "stdout",
          "text": [
            "Epoch:  4\n"
          ]
        },
        {
          "output_type": "stream",
          "name": "stderr",
          "text": [
            "  1%|          | 1/180 [00:44<2:14:05, 44.95s/it, loss=1.12]"
          ]
        },
        {
          "output_type": "stream",
          "name": "stdout",
          "text": [
            "Validation accuracy: 68.18  Deviation: -9.69\n"
          ]
        },
        {
          "output_type": "stream",
          "name": "stderr",
          "text": [
            "100%|██████████| 180/180 [01:32<00:00,  1.94it/s, loss=1.09]\n"
          ]
        },
        {
          "output_type": "stream",
          "name": "stdout",
          "text": [
            "Epoch:  5\n"
          ]
        },
        {
          "output_type": "stream",
          "name": "stderr",
          "text": [
            "  1%|          | 1/180 [00:44<2:11:28, 44.07s/it, loss=1.05]"
          ]
        },
        {
          "output_type": "stream",
          "name": "stdout",
          "text": [
            "Validation accuracy: 71.60  Deviation: -10.26\n"
          ]
        },
        {
          "output_type": "stream",
          "name": "stderr",
          "text": [
            "100%|██████████| 180/180 [01:30<00:00,  1.98it/s, loss=1.1]\n"
          ]
        },
        {
          "output_type": "stream",
          "name": "stdout",
          "text": [
            "Epoch:  6\n"
          ]
        },
        {
          "output_type": "stream",
          "name": "stderr",
          "text": [
            "  1%|          | 1/180 [00:44<2:12:03, 44.27s/it, loss=1.02]"
          ]
        },
        {
          "output_type": "stream",
          "name": "stdout",
          "text": [
            "Validation accuracy: 66.88  Deviation: -9.96\n"
          ]
        },
        {
          "output_type": "stream",
          "name": "stderr",
          "text": [
            "100%|██████████| 180/180 [01:30<00:00,  2.00it/s, loss=1.08]\n"
          ]
        },
        {
          "output_type": "stream",
          "name": "stdout",
          "text": [
            "Epoch:  7\n"
          ]
        },
        {
          "output_type": "stream",
          "name": "stderr",
          "text": [
            "  1%|          | 1/180 [00:42<2:07:22, 42.70s/it, loss=0.886]"
          ]
        },
        {
          "output_type": "stream",
          "name": "stdout",
          "text": [
            "Validation accuracy: 76.14  Deviation: -8.63\n"
          ]
        },
        {
          "output_type": "stream",
          "name": "stderr",
          "text": [
            "100%|██████████| 180/180 [01:28<00:00,  2.04it/s, loss=1]\n"
          ]
        },
        {
          "output_type": "stream",
          "name": "stdout",
          "text": [
            "Epoch:  8\n"
          ]
        },
        {
          "output_type": "stream",
          "name": "stderr",
          "text": [
            "  1%|          | 1/180 [00:43<2:09:52, 43.53s/it, loss=0.892]"
          ]
        },
        {
          "output_type": "stream",
          "name": "stdout",
          "text": [
            "Validation accuracy: 75.14  Deviation: -8.42\n"
          ]
        },
        {
          "output_type": "stream",
          "name": "stderr",
          "text": [
            "100%|██████████| 180/180 [01:31<00:00,  1.98it/s, loss=0.987]\n"
          ]
        },
        {
          "output_type": "stream",
          "name": "stdout",
          "text": [
            "Epoch:  9\n"
          ]
        },
        {
          "output_type": "stream",
          "name": "stderr",
          "text": [
            "  1%|          | 1/180 [00:44<2:12:05, 44.28s/it, loss=0.882]"
          ]
        },
        {
          "output_type": "stream",
          "name": "stdout",
          "text": [
            "Validation accuracy: 76.42  Deviation: -7.53\n"
          ]
        },
        {
          "output_type": "stream",
          "name": "stderr",
          "text": [
            "100%|██████████| 180/180 [01:30<00:00,  1.98it/s, loss=0.936]\n"
          ]
        },
        {
          "output_type": "stream",
          "name": "stdout",
          "text": [
            "Epoch:  10\n"
          ]
        },
        {
          "output_type": "stream",
          "name": "stderr",
          "text": [
            "  1%|          | 1/180 [00:43<2:10:32, 43.76s/it, loss=0.818]"
          ]
        },
        {
          "output_type": "stream",
          "name": "stdout",
          "text": [
            "Validation accuracy: 76.06  Deviation: -7.35\n"
          ]
        },
        {
          "output_type": "stream",
          "name": "stderr",
          "text": [
            "100%|██████████| 180/180 [01:30<00:00,  1.98it/s, loss=0.856]\n"
          ]
        },
        {
          "output_type": "stream",
          "name": "stdout",
          "text": [
            "Epoch:  11\n"
          ]
        },
        {
          "output_type": "stream",
          "name": "stderr",
          "text": [
            "  1%|          | 1/180 [00:43<2:10:16, 43.67s/it, loss=0.904]"
          ]
        },
        {
          "output_type": "stream",
          "name": "stdout",
          "text": [
            "Validation accuracy: 76.68  Deviation: -6.81\n"
          ]
        },
        {
          "output_type": "stream",
          "name": "stderr",
          "text": [
            "100%|██████████| 180/180 [01:30<00:00,  1.99it/s, loss=0.776]\n"
          ]
        },
        {
          "output_type": "stream",
          "name": "stdout",
          "text": [
            "Epoch:  12\n"
          ]
        },
        {
          "output_type": "stream",
          "name": "stderr",
          "text": [
            "  1%|          | 1/180 [00:43<2:10:51, 43.86s/it, loss=0.708]"
          ]
        },
        {
          "output_type": "stream",
          "name": "stdout",
          "text": [
            "Validation accuracy: 78.80  Deviation: -6.49\n"
          ]
        },
        {
          "output_type": "stream",
          "name": "stderr",
          "text": [
            "100%|██████████| 180/180 [01:31<00:00,  1.96it/s, loss=0.857]\n"
          ]
        },
        {
          "output_type": "stream",
          "name": "stdout",
          "text": [
            "Epoch:  13\n"
          ]
        },
        {
          "output_type": "stream",
          "name": "stderr",
          "text": [
            "  1%|          | 1/180 [00:43<2:11:08, 43.96s/it, loss=0.775]"
          ]
        },
        {
          "output_type": "stream",
          "name": "stdout",
          "text": [
            "Validation accuracy: 79.04  Deviation: -7.10\n"
          ]
        },
        {
          "output_type": "stream",
          "name": "stderr",
          "text": [
            "100%|██████████| 180/180 [01:31<00:00,  1.96it/s, loss=0.855]\n"
          ]
        },
        {
          "output_type": "stream",
          "name": "stdout",
          "text": [
            "Epoch:  14\n"
          ]
        },
        {
          "output_type": "stream",
          "name": "stderr",
          "text": [
            "  1%|          | 1/180 [00:44<2:12:45, 44.50s/it, loss=0.837]"
          ]
        },
        {
          "output_type": "stream",
          "name": "stdout",
          "text": [
            "Validation accuracy: 80.32  Deviation: -6.02\n"
          ]
        },
        {
          "output_type": "stream",
          "name": "stderr",
          "text": [
            "100%|██████████| 180/180 [01:31<00:00,  1.96it/s, loss=0.843]\n"
          ]
        },
        {
          "output_type": "stream",
          "name": "stdout",
          "text": [
            "Epoch:  15\n"
          ]
        },
        {
          "output_type": "stream",
          "name": "stderr",
          "text": [
            "  1%|          | 1/180 [00:43<2:08:47, 43.17s/it, loss=0.776]"
          ]
        },
        {
          "output_type": "stream",
          "name": "stdout",
          "text": [
            "Validation accuracy: 77.56  Deviation: -5.28\n"
          ]
        },
        {
          "output_type": "stream",
          "name": "stderr",
          "text": [
            "100%|██████████| 180/180 [01:30<00:00,  2.00it/s, loss=0.749]\n"
          ]
        },
        {
          "output_type": "stream",
          "name": "stdout",
          "text": [
            "Epoch:  16\n"
          ]
        },
        {
          "output_type": "stream",
          "name": "stderr",
          "text": [
            "  1%|          | 1/180 [00:43<2:10:37, 43.79s/it, loss=0.765]"
          ]
        },
        {
          "output_type": "stream",
          "name": "stdout",
          "text": [
            "Validation accuracy: 80.02  Deviation: -5.00\n"
          ]
        },
        {
          "output_type": "stream",
          "name": "stderr",
          "text": [
            "100%|██████████| 180/180 [01:29<00:00,  2.00it/s, loss=0.788]\n"
          ]
        },
        {
          "output_type": "stream",
          "name": "stdout",
          "text": [
            "Epoch:  17\n"
          ]
        },
        {
          "output_type": "stream",
          "name": "stderr",
          "text": [
            "  1%|          | 1/180 [00:43<2:10:47, 43.84s/it, loss=0.647]"
          ]
        },
        {
          "output_type": "stream",
          "name": "stdout",
          "text": [
            "Validation accuracy: 75.18  Deviation: -5.92\n"
          ]
        },
        {
          "output_type": "stream",
          "name": "stderr",
          "text": [
            "100%|██████████| 180/180 [01:31<00:00,  1.97it/s, loss=0.716]\n"
          ]
        },
        {
          "output_type": "stream",
          "name": "stdout",
          "text": [
            "Epoch:  18\n"
          ]
        },
        {
          "output_type": "stream",
          "name": "stderr",
          "text": [
            "  1%|          | 1/180 [00:43<2:09:54, 43.55s/it, loss=0.675]"
          ]
        },
        {
          "output_type": "stream",
          "name": "stdout",
          "text": [
            "Validation accuracy: 80.94  Deviation: -4.35\n"
          ]
        },
        {
          "output_type": "stream",
          "name": "stderr",
          "text": [
            "100%|██████████| 180/180 [01:30<00:00,  1.99it/s, loss=0.723]\n"
          ]
        },
        {
          "output_type": "stream",
          "name": "stdout",
          "text": [
            "Epoch:  19\n"
          ]
        },
        {
          "output_type": "stream",
          "name": "stderr",
          "text": [
            "  1%|          | 1/180 [00:43<2:11:15, 43.99s/it, loss=0.896]"
          ]
        },
        {
          "output_type": "stream",
          "name": "stdout",
          "text": [
            "Validation accuracy: 79.08  Deviation: -4.18\n"
          ]
        },
        {
          "output_type": "stream",
          "name": "stderr",
          "text": [
            "100%|██████████| 180/180 [01:30<00:00,  1.98it/s, loss=0.692]\n"
          ]
        },
        {
          "output_type": "stream",
          "name": "stdout",
          "text": [
            "Epoch:  20\n"
          ]
        },
        {
          "output_type": "stream",
          "name": "stderr",
          "text": [
            "  1%|          | 1/180 [00:43<2:09:19, 43.35s/it, loss=0.708]"
          ]
        },
        {
          "output_type": "stream",
          "name": "stdout",
          "text": [
            "Validation accuracy: 81.04  Deviation: -4.25\n"
          ]
        },
        {
          "output_type": "stream",
          "name": "stderr",
          "text": [
            "100%|██████████| 180/180 [01:29<00:00,  2.02it/s, loss=0.66]\n"
          ]
        },
        {
          "output_type": "stream",
          "name": "stdout",
          "text": [
            "Validation accuracy: 81.06  Deviation: -4.18\n",
            "Test set accuracy:  0.8048\n"
          ]
        },
        {
          "output_type": "display_data",
          "data": {
            "text/plain": [
              "<Figure size 864x288 with 2 Axes>"
            ],
            "image/png": "[encoded data removed]"
          },
          "metadata": {
            "needs_background": "light"
          }
        }
      ],
      "source": [
        "epochs = 20\n",
        "# BEGIN your code here <<<<<<<<<<<<<<<<<<<<<<<<<<<<<<<<<<<<<<<<<<<<<<<<<<<<<<<<<<<<<<\n",
        "optimizer = torch.optim.Adam(model.parameters(), lr=0.001, weight_decay=1e-5)\n",
        "loss_alexnet_regularized = nn.CrossEntropyLoss()\n",
        "# END <<<<<<<<<<<<<<<<<<<<<<<<<<<<<<<<<<<<<<<<<<<<<<<<<<<<<<<<<<<<<<<<<<<<<<<<<<<<<<<\n",
        "if training:\n",
        "    log_dict = train_model(model, optimizer, loss_alexnet_regularized, epochs, device, \n",
        "                           loader_train, loader_validation)\n",
        "    test_accuracy = check_accuracy(model, loader_test, device)[0]\n",
        "    print(\"Test set accuracy: \", test_accuracy)\n",
        "    plot_accuracy_loss(log_dict, epochs)\n",
        "    \n",
        "    log_dict.update({'test_accuracy': test_accuracy})\n",
        "    \n",
        "    with open('alexnet_regularized'+'.pkl', 'wb') as f:\n",
        "        pickle.dump(log_dict, f)"
      ]
    },
    {
      "cell_type": "markdown",
      "metadata": {
        "id": "-KkwvyyRrerK"
      },
      "source": [
        "If you decided to use colab to run this notebook you will need to download the checkpoints you saved. Please run the following block and add those files to your assignment repository."
      ]
    },
    {
      "cell_type": "code",
      "execution_count": 37,
      "metadata": {
        "colab": {
          "base_uri": "https://localhost:8080/",
          "height": 17
        },
        "id": "Kx4q-ydTrerK",
        "outputId": "69d43ff2-6757-48e8-ae40-a13b98c52225"
      },
      "outputs": [
        {
          "output_type": "display_data",
          "data": {
            "text/plain": [
              "<IPython.core.display.Javascript object>"
            ],
            "application/javascript": [
              "\n",
              "    async function download(id, filename, size) {\n",
              "      if (!google.colab.kernel.accessAllowed) {\n",
              "        return;\n",
              "      }\n",
              "      const div = document.createElement('div');\n",
              "      const label = document.createElement('label');\n",
              "      label.textContent = `Downloading \"${filename}\": `;\n",
              "      div.appendChild(label);\n",
              "      const progress = document.createElement('progress');\n",
              "      progress.max = size;\n",
              "      div.appendChild(progress);\n",
              "      document.body.appendChild(div);\n",
              "\n",
              "      const buffers = [];\n",
              "      let downloaded = 0;\n",
              "\n",
              "      const channel = await google.colab.kernel.comms.open(id);\n",
              "      // Send a message to notify the kernel that we're ready.\n",
              "      channel.send({})\n",
              "\n",
              "      for await (const message of channel.messages) {\n",
              "        // Send a message to notify the kernel that we're ready.\n",
              "        channel.send({})\n",
              "        if (message.buffers) {\n",
              "          for (const buffer of message.buffers) {\n",
              "            buffers.push(buffer);\n",
              "            downloaded += buffer.byteLength;\n",
              "            progress.value = downloaded;\n",
              "          }\n",
              "        }\n",
              "      }\n",
              "      const blob = new Blob(buffers, {type: 'application/binary'});\n",
              "      const a = document.createElement('a');\n",
              "      a.href = window.URL.createObjectURL(blob);\n",
              "      a.download = filename;\n",
              "      div.appendChild(a);\n",
              "      a.click();\n",
              "      div.remove();\n",
              "    }\n",
              "  "
            ]
          },
          "metadata": {}
        },
        {
          "output_type": "display_data",
          "data": {
            "text/plain": [
              "<IPython.core.display.Javascript object>"
            ],
            "application/javascript": [
              "download(\"download_fbb926b6-24c1-47df-8a67-9ae2d39958a3\", \"alexnet_regularized.pkl\", 34705)"
            ]
          },
          "metadata": {}
        }
      ],
      "source": [
        "if training:\n",
        "    from google.colab import files\n",
        "    files.download(\"alexnet_regularized.pkl\")"
      ]
    }
  ],
  "metadata": {
    "kernelspec": {
      "display_name": "Python 3 (ipykernel)",
      "language": "python",
      "name": "python3"
    },
    "language_info": {
      "codemirror_mode": {
        "name": "ipython",
        "version": 3
      },
      "file_extension": ".py",
      "mimetype": "text/x-python",
      "name": "python",
      "nbconvert_exporter": "python",
      "pygments_lexer": "ipython3",
      "version": "3.10.9"
    },
    "vscode": {
      "interpreter": {
        "hash": "d61e67d4406f83661a218a7594034be74564666d0640d3900a3e99845865d0f0"
      }
    },
    "colab": {
      "provenance": []
    },
    "accelerator": "GPU",
    "gpuClass": "standard"
  },
  "nbformat": 4,
  "nbformat_minor": 0
}